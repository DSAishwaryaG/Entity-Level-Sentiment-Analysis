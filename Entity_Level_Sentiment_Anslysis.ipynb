{
  "nbformat": 4,
  "nbformat_minor": 0,
  "metadata": {
    "accelerator": "GPU",
    "colab": {
      "name": "Entity-Level Sentiment Anslysis.ipynb",
      "provenance": [],
      "collapsed_sections": []
    },
    "kernelspec": {
      "display_name": "Python 3",
      "name": "python3"
    },
    "language_info": {
      "name": "python"
    }
  },
  "cells": [
    {
      "cell_type": "markdown",
      "metadata": {
        "id": "2TGKup-xxcTr"
      },
      "source": [
        "\n",
        "### Required Packages\n"
      ]
    },
    {
      "cell_type": "code",
      "metadata": {
        "id": "kQHI5SyUnAP2"
      },
      "source": [
        "from textblob import TextBlob\n",
        "import matplotlib.pyplot as plt\n",
        "import pandas as pd\n",
        "import spacy\n",
        "import re"
      ],
      "execution_count": 104,
      "outputs": []
    },
    {
      "cell_type": "markdown",
      "metadata": {
        "id": "vevcWzl6yI1o"
      },
      "source": [
        "### Reading JSON file"
      ]
    },
    {
      "cell_type": "code",
      "metadata": {
        "id": "Bdt6o7vm1Ctq"
      },
      "source": [
        "df = pd.read_json('/content/drive/MyDrive/Datasets/tweets.json').T"
      ],
      "execution_count": null,
      "outputs": []
    },
    {
      "cell_type": "code",
      "metadata": {
        "colab": {
          "base_uri": "https://localhost:8080/",
          "height": 293
        },
        "id": "yKIEEb1h1zOH",
        "outputId": "602f438b-9595-46ef-dc61-4751705dcbd5"
      },
      "source": [
        "pd.set_option(\"display.max_colwidth\",400)\n",
        "df.head(5)"
      ],
      "execution_count": 51,
      "outputs": [
        {
          "output_type": "execute_result",
          "data": {
            "text/html": [
              "<div>\n",
              "<style scoped>\n",
              "    .dataframe tbody tr th:only-of-type {\n",
              "        vertical-align: middle;\n",
              "    }\n",
              "\n",
              "    .dataframe tbody tr th {\n",
              "        vertical-align: top;\n",
              "    }\n",
              "\n",
              "    .dataframe thead th {\n",
              "        text-align: right;\n",
              "    }\n",
              "</style>\n",
              "<table border=\"1\" class=\"dataframe\">\n",
              "  <thead>\n",
              "    <tr style=\"text-align: right;\">\n",
              "      <th></th>\n",
              "      <th>tweet_author</th>\n",
              "      <th>tweet_text</th>\n",
              "    </tr>\n",
              "  </thead>\n",
              "  <tbody>\n",
              "    <tr>\n",
              "      <th>2013-07-18 09:39:46.071961602</th>\n",
              "      <td>Hematopoiesis News</td>\n",
              "      <td>⚕️ Scientists conducted a Phase II study of acalabrutinib in patients with relapsed/refractory #CLL who were ibrutinib-intolerant, and found an overall response rate of 73%. \\nhttps://t.co/eJ6m4QpC5P https://t.co/kuZz6ZO47r</td>\n",
              "    </tr>\n",
              "    <tr>\n",
              "      <th>2013-07-17 03:40:32.173842437</th>\n",
              "      <td>Michael Wang, MD</td>\n",
              "      <td>This phase 2 Acalabrutinib-Venetoclax (AV) trial that is still in recruitment phase will study how well venetoclax and acalabrutinib works in MCL patients who either relapsed or non-respondent to the initial therapy.\\n\\nhttps://t.co/gg0G9At23N</td>\n",
              "    </tr>\n",
              "    <tr>\n",
              "      <th>2013-07-15 15:41:16.553048065</th>\n",
              "      <td>1stOncology</td>\n",
              "      <td>#NICE backs #AstraZenecas #Calquence for #CLL https://t.co/Vb5lPDoGrA</td>\n",
              "    </tr>\n",
              "    <tr>\n",
              "      <th>2013-07-12 19:19:42.367813635</th>\n",
              "      <td>Toby Eyre</td>\n",
              "      <td>#acalabrutinib is a valuable option in pts intolerant to #ibrutinib. Further valuable data to help decision making in #CLL \\n\\nEarly View | Haematologica https://t.co/Z2kCLZaX0D</td>\n",
              "    </tr>\n",
              "    <tr>\n",
              "      <th>2013-07-04 12:40:34.334232586</th>\n",
              "      <td>Lymphoma Hub</td>\n",
              "      <td>NICE has recommended the use of acalabrutinib for patients with treatment-naïve chronic lymphocytic leukemia. Find out more here https://t.co/6OuJptLCIN #lymsm #lymphoma</td>\n",
              "    </tr>\n",
              "  </tbody>\n",
              "</table>\n",
              "</div>"
            ],
            "text/plain": [
              "                                     tweet_author                                                                                                                                                                                                                                           tweet_text\n",
              "2013-07-18 09:39:46.071961602  Hematopoiesis News                      ⚕️ Scientists conducted a Phase II study of acalabrutinib in patients with relapsed/refractory #CLL who were ibrutinib-intolerant, and found an overall response rate of 73%. \\nhttps://t.co/eJ6m4QpC5P https://t.co/kuZz6ZO47r\n",
              "2013-07-17 03:40:32.173842437    Michael Wang, MD  This phase 2 Acalabrutinib-Venetoclax (AV) trial that is still in recruitment phase will study how well venetoclax and acalabrutinib works in MCL patients who either relapsed or non-respondent to the initial therapy.\\n\\nhttps://t.co/gg0G9At23N\n",
              "2013-07-15 15:41:16.553048065         1stOncology                                                                                                                                                                                #NICE backs #AstraZenecas #Calquence for #CLL https://t.co/Vb5lPDoGrA\n",
              "2013-07-12 19:19:42.367813635           Toby Eyre                                                                    #acalabrutinib is a valuable option in pts intolerant to #ibrutinib. Further valuable data to help decision making in #CLL \\n\\nEarly View | Haematologica https://t.co/Z2kCLZaX0D\n",
              "2013-07-04 12:40:34.334232586        Lymphoma Hub                                                                            NICE has recommended the use of acalabrutinib for patients with treatment-naïve chronic lymphocytic leukemia. Find out more here https://t.co/6OuJptLCIN #lymsm #lymphoma"
            ]
          },
          "metadata": {},
          "execution_count": 51
        }
      ]
    },
    {
      "cell_type": "markdown",
      "metadata": {
        "id": "7Fm61D30ye1Y"
      },
      "source": [
        "### Data Cleaning"
      ]
    },
    {
      "cell_type": "code",
      "metadata": {
        "id": "mxzRvWC7PTXE"
      },
      "source": [
        "pd.set_option(\"display.max_colwidth\",400)\n",
        "df_cleaned = df.copy()\n",
        "for i in range(0,len(df)):\n",
        "  text = df['tweet_text'][i]\n",
        "  text = re.sub(r'((www\\.[\\S]+)|(https?://[\\S]+))', '', text) #Remove URLs\n",
        "  text = re.sub(r'#(\\S+)', r'\\1', text) #Hashtags replaced with text\n",
        "  text = re.sub(r'@[\\S]+','', text) #Remove @text\n",
        "  df_cleaned['tweet_text'][i]=text"
      ],
      "execution_count": 91,
      "outputs": []
    },
    {
      "cell_type": "code",
      "metadata": {
        "colab": {
          "base_uri": "https://localhost:8080/",
          "height": 195
        },
        "id": "f3JuBlSvmwFQ",
        "outputId": "955fd054-3168-44af-b5e7-3f280592bdd2"
      },
      "source": [
        "df_cleaned.head(3)"
      ],
      "execution_count": 92,
      "outputs": [
        {
          "output_type": "execute_result",
          "data": {
            "text/html": [
              "<div>\n",
              "<style scoped>\n",
              "    .dataframe tbody tr th:only-of-type {\n",
              "        vertical-align: middle;\n",
              "    }\n",
              "\n",
              "    .dataframe tbody tr th {\n",
              "        vertical-align: top;\n",
              "    }\n",
              "\n",
              "    .dataframe thead th {\n",
              "        text-align: right;\n",
              "    }\n",
              "</style>\n",
              "<table border=\"1\" class=\"dataframe\">\n",
              "  <thead>\n",
              "    <tr style=\"text-align: right;\">\n",
              "      <th></th>\n",
              "      <th>tweet_author</th>\n",
              "      <th>tweet_text</th>\n",
              "    </tr>\n",
              "  </thead>\n",
              "  <tbody>\n",
              "    <tr>\n",
              "      <th>2013-07-18 09:39:46.071961602</th>\n",
              "      <td>Hematopoiesis News</td>\n",
              "      <td>⚕️ Scientists conducted a Phase II study of acalabrutinib in patients with relapsed/refractory CLL who were ibrutinib-intolerant, and found an overall response rate of 73%. \\n</td>\n",
              "    </tr>\n",
              "    <tr>\n",
              "      <th>2013-07-17 03:40:32.173842437</th>\n",
              "      <td>Michael Wang, MD</td>\n",
              "      <td>This phase 2 Acalabrutinib-Venetoclax (AV) trial that is still in recruitment phase will study how well venetoclax and acalabrutinib works in MCL patients who either relapsed or non-respondent to the initial therapy.\\n\\n</td>\n",
              "    </tr>\n",
              "    <tr>\n",
              "      <th>2013-07-15 15:41:16.553048065</th>\n",
              "      <td>1stOncology</td>\n",
              "      <td>NICE backs AstraZenecas Calquence for CLL</td>\n",
              "    </tr>\n",
              "  </tbody>\n",
              "</table>\n",
              "</div>"
            ],
            "text/plain": [
              "                                     tweet_author                                                                                                                                                                                                                    tweet_text\n",
              "2013-07-18 09:39:46.071961602  Hematopoiesis News                                              ⚕️ Scientists conducted a Phase II study of acalabrutinib in patients with relapsed/refractory CLL who were ibrutinib-intolerant, and found an overall response rate of 73%. \\n \n",
              "2013-07-17 03:40:32.173842437    Michael Wang, MD  This phase 2 Acalabrutinib-Venetoclax (AV) trial that is still in recruitment phase will study how well venetoclax and acalabrutinib works in MCL patients who either relapsed or non-respondent to the initial therapy.\\n\\n\n",
              "2013-07-15 15:41:16.553048065         1stOncology                                                                                                                                                                                    NICE backs AstraZenecas Calquence for CLL "
            ]
          },
          "metadata": {},
          "execution_count": 92
        }
      ]
    },
    {
      "cell_type": "markdown",
      "metadata": {
        "id": "NtHXIeL_y-f8"
      },
      "source": [
        "### Load SpaCy model"
      ]
    },
    {
      "cell_type": "code",
      "metadata": {
        "id": "zi0nNf6B3ItO"
      },
      "source": [
        "nlp = spacy.load(\"en_core_web_sm\")"
      ],
      "execution_count": 13,
      "outputs": []
    },
    {
      "cell_type": "markdown",
      "metadata": {
        "id": "NOdjx4p1zzlA"
      },
      "source": [
        "### Finding entities "
      ]
    },
    {
      "cell_type": "code",
      "metadata": {
        "id": "AR0WNqtOnNyJ"
      },
      "source": [
        "entities = []\n",
        "aspects = []\n",
        "descriptive_term = ''\n",
        "target = ''\n",
        "for i in range(0,len(df_cleaned)):\n",
        "  doc = nlp(df_cleaned['tweet_text'][i])\n",
        "  for token in doc:\n",
        "    if (token.dep_ == 'nsubj' or token.dep_ == 'nsubjpass') and (token.pos_ == 'NOUN' or token.pos_ == 'PROPN'):\n",
        "      target = token.text\n",
        "    if token.pos_ == 'ADJ':\n",
        "      prepend = ''\n",
        "      for child in token.children:\n",
        "        if child.pos_ != 'ADV':\n",
        "          continue\n",
        "        prepend += child.text + ' '\n",
        "      descriptive_term = prepend + token.text\n",
        "  aspects.append({'aspect': target,'description': descriptive_term})\n",
        "  entities.append(target)"
      ],
      "execution_count": 108,
      "outputs": []
    },
    {
      "cell_type": "code",
      "metadata": {
        "colab": {
          "base_uri": "https://localhost:8080/"
        },
        "id": "SJPfs74s8IIq",
        "outputId": "2cd6c866-192f-401f-c194-0a559d299a0b"
      },
      "source": [
        "aspects[:10]"
      ],
      "execution_count": 109,
      "outputs": [
        {
          "output_type": "execute_result",
          "data": {
            "text/plain": [
              "[{'aspect': 'Scientists', 'description': 'overall'},\n",
              " {'aspect': 'venetoclax', 'description': 'initial'},\n",
              " {'aspect': 'NICE', 'description': 'initial'},\n",
              " {'aspect': 'acalabrutinib', 'description': 'Early'},\n",
              " {'aspect': 'NICE', 'description': 'lymphocytic'},\n",
              " {'aspect': 'NICE', 'description': 'lymphocytic'},\n",
              " {'aspect': 'decisions', 'description': 'More'},\n",
              " {'aspect': 'AstraZeneca', 'description': 'lymphocytic'},\n",
              " {'aspect': 'Superstar', 'description': 'unsuitable'},\n",
              " {'aspect': 'drug', 'description': 'recent'}]"
            ]
          },
          "metadata": {},
          "execution_count": 109
        }
      ]
    },
    {
      "cell_type": "code",
      "metadata": {
        "id": "qjKyqLe7bRWZ",
        "colab": {
          "base_uri": "https://localhost:8080/",
          "height": 293
        },
        "outputId": "7caac596-f015-48b0-b743-394e4710764f"
      },
      "source": [
        "df_cleaned['entity'] = entities\n",
        "df_cleaned.head(5)"
      ],
      "execution_count": 110,
      "outputs": [
        {
          "output_type": "execute_result",
          "data": {
            "text/html": [
              "<div>\n",
              "<style scoped>\n",
              "    .dataframe tbody tr th:only-of-type {\n",
              "        vertical-align: middle;\n",
              "    }\n",
              "\n",
              "    .dataframe tbody tr th {\n",
              "        vertical-align: top;\n",
              "    }\n",
              "\n",
              "    .dataframe thead th {\n",
              "        text-align: right;\n",
              "    }\n",
              "</style>\n",
              "<table border=\"1\" class=\"dataframe\">\n",
              "  <thead>\n",
              "    <tr style=\"text-align: right;\">\n",
              "      <th></th>\n",
              "      <th>tweet_author</th>\n",
              "      <th>tweet_text</th>\n",
              "      <th>entity</th>\n",
              "    </tr>\n",
              "  </thead>\n",
              "  <tbody>\n",
              "    <tr>\n",
              "      <th>2013-07-18 09:39:46.071961602</th>\n",
              "      <td>Hematopoiesis News</td>\n",
              "      <td>⚕️ Scientists conducted a Phase II study of acalabrutinib in patients with relapsed/refractory CLL who were ibrutinib-intolerant, and found an overall response rate of 73%. \\n</td>\n",
              "      <td>Scientists</td>\n",
              "    </tr>\n",
              "    <tr>\n",
              "      <th>2013-07-17 03:40:32.173842437</th>\n",
              "      <td>Michael Wang, MD</td>\n",
              "      <td>This phase 2 Acalabrutinib-Venetoclax (AV) trial that is still in recruitment phase will study how well venetoclax and acalabrutinib works in MCL patients who either relapsed or non-respondent to the initial therapy.\\n\\n</td>\n",
              "      <td>venetoclax</td>\n",
              "    </tr>\n",
              "    <tr>\n",
              "      <th>2013-07-15 15:41:16.553048065</th>\n",
              "      <td>1stOncology</td>\n",
              "      <td>NICE backs AstraZenecas Calquence for CLL</td>\n",
              "      <td>NICE</td>\n",
              "    </tr>\n",
              "    <tr>\n",
              "      <th>2013-07-12 19:19:42.367813635</th>\n",
              "      <td>Toby Eyre</td>\n",
              "      <td>acalabrutinib is a valuable option in pts intolerant to ibrutinib. Further valuable data to help decision making in CLL \\n\\nEarly View | Haematologica</td>\n",
              "      <td>acalabrutinib</td>\n",
              "    </tr>\n",
              "    <tr>\n",
              "      <th>2013-07-04 12:40:34.334232586</th>\n",
              "      <td>Lymphoma Hub</td>\n",
              "      <td>NICE has recommended the use of acalabrutinib for patients with treatment-naïve chronic lymphocytic leukemia. Find out more here  lymsm lymphoma</td>\n",
              "      <td>NICE</td>\n",
              "    </tr>\n",
              "  </tbody>\n",
              "</table>\n",
              "</div>"
            ],
            "text/plain": [
              "                                     tweet_author  ...         entity\n",
              "2013-07-18 09:39:46.071961602  Hematopoiesis News  ...     Scientists\n",
              "2013-07-17 03:40:32.173842437    Michael Wang, MD  ...     venetoclax\n",
              "2013-07-15 15:41:16.553048065         1stOncology  ...           NICE\n",
              "2013-07-12 19:19:42.367813635           Toby Eyre  ...  acalabrutinib\n",
              "2013-07-04 12:40:34.334232586        Lymphoma Hub  ...           NICE\n",
              "\n",
              "[5 rows x 3 columns]"
            ]
          },
          "metadata": {},
          "execution_count": 110
        }
      ]
    },
    {
      "cell_type": "markdown",
      "metadata": {
        "id": "cvLqOghcz_oo"
      },
      "source": [
        "### Objective 1 : Most frequent entities"
      ]
    },
    {
      "cell_type": "code",
      "metadata": {
        "id": "R05Jmwlcoi6M"
      },
      "source": [
        "frequency = df_cleaned['entity'].value_counts()\n",
        "df_frequency = pd.DataFrame(frequency)\n",
        "df_frequency.to_csv('/content/drive/MyDrive/Datasets/objective1.csv')"
      ],
      "execution_count": 113,
      "outputs": []
    },
    {
      "cell_type": "code",
      "metadata": {
        "colab": {
          "base_uri": "https://localhost:8080/",
          "height": 363
        },
        "id": "0uw7tT1K0uO-",
        "outputId": "1e4e5ec0-30d0-4bd8-d7a6-789a1493884a"
      },
      "source": [
        "df_frequency_10 = pd.DataFrame(frequency[:10])\n",
        "df_frequency_10 = df_frequency_10.reset_index()\n",
        "df_frequency_10.columns = ['entity','frequency']\n",
        "df_frequency_10"
      ],
      "execution_count": 115,
      "outputs": [
        {
          "output_type": "execute_result",
          "data": {
            "text/html": [
              "<div>\n",
              "<style scoped>\n",
              "    .dataframe tbody tr th:only-of-type {\n",
              "        vertical-align: middle;\n",
              "    }\n",
              "\n",
              "    .dataframe tbody tr th {\n",
              "        vertical-align: top;\n",
              "    }\n",
              "\n",
              "    .dataframe thead th {\n",
              "        text-align: right;\n",
              "    }\n",
              "</style>\n",
              "<table border=\"1\" class=\"dataframe\">\n",
              "  <thead>\n",
              "    <tr style=\"text-align: right;\">\n",
              "      <th></th>\n",
              "      <th>entity</th>\n",
              "      <th>frequency</th>\n",
              "    </tr>\n",
              "  </thead>\n",
              "  <tbody>\n",
              "    <tr>\n",
              "      <th>0</th>\n",
              "      <td>FDA</td>\n",
              "      <td>1402</td>\n",
              "    </tr>\n",
              "    <tr>\n",
              "      <th>1</th>\n",
              "      <td>CLL</td>\n",
              "      <td>1319</td>\n",
              "    </tr>\n",
              "    <tr>\n",
              "      <th>2</th>\n",
              "      <td>leukemia</td>\n",
              "      <td>1265</td>\n",
              "    </tr>\n",
              "    <tr>\n",
              "      <th>3</th>\n",
              "      <td>patients</td>\n",
              "      <td>910</td>\n",
              "    </tr>\n",
              "    <tr>\n",
              "      <th>4</th>\n",
              "      <td>trial</td>\n",
              "      <td>775</td>\n",
              "    </tr>\n",
              "    <tr>\n",
              "      <th>5</th>\n",
              "      <td>Acalabrutinib</td>\n",
              "      <td>580</td>\n",
              "    </tr>\n",
              "    <tr>\n",
              "      <th>6</th>\n",
              "      <td>Calquence</td>\n",
              "      <td>572</td>\n",
              "    </tr>\n",
              "    <tr>\n",
              "      <th>7</th>\n",
              "      <td>Venetoclax</td>\n",
              "      <td>516</td>\n",
              "    </tr>\n",
              "    <tr>\n",
              "      <th>8</th>\n",
              "      <td>AstraZeneca</td>\n",
              "      <td>482</td>\n",
              "    </tr>\n",
              "    <tr>\n",
              "      <th>9</th>\n",
              "      <td>Patients</td>\n",
              "      <td>344</td>\n",
              "    </tr>\n",
              "  </tbody>\n",
              "</table>\n",
              "</div>"
            ],
            "text/plain": [
              "          entity  frequency\n",
              "0            FDA       1402\n",
              "1            CLL       1319\n",
              "2       leukemia       1265\n",
              "3       patients        910\n",
              "4          trial        775\n",
              "5  Acalabrutinib        580\n",
              "6      Calquence        572\n",
              "7     Venetoclax        516\n",
              "8    AstraZeneca        482\n",
              "9       Patients        344"
            ]
          },
          "metadata": {},
          "execution_count": 115
        }
      ]
    },
    {
      "cell_type": "code",
      "metadata": {
        "colab": {
          "base_uri": "https://localhost:8080/",
          "height": 392
        },
        "id": "vXrnKOPBrZE8",
        "outputId": "26c533a9-89de-4bc0-ad0d-22d01221d0e9"
      },
      "source": [
        "plt.figure(figsize=(20,6))\n",
        "plt.bar('entity','frequency',data=df_frequency_10)"
      ],
      "execution_count": 117,
      "outputs": [
        {
          "output_type": "execute_result",
          "data": {
            "text/plain": [
              "<BarContainer object of 10 artists>"
            ]
          },
          "metadata": {},
          "execution_count": 117
        },
        {
          "output_type": "display_data",
          "data": {
            "image/png": "[encoded data removed]",
            "text/plain": [
              "<Figure size 1440x432 with 1 Axes>"
            ]
          },
          "metadata": {
            "needs_background": "light"
          }
        }
      ]
    },
    {
      "cell_type": "markdown",
      "metadata": {
        "id": "EAeN-5nY2CTF"
      },
      "source": [
        "### Finding sentiment score(polarity)"
      ]
    },
    {
      "cell_type": "code",
      "metadata": {
        "id": "x9_MDffZaQAd"
      },
      "source": [
        "sentiment_score = []\n",
        "for aspect in aspects:\n",
        "  score = TextBlob(aspect['description']).sentiment.polarity\n",
        "  sentiment_score.append(score)"
      ],
      "execution_count": 118,
      "outputs": []
    },
    {
      "cell_type": "code",
      "metadata": {
        "id": "HmbqjOEpcA1c",
        "colab": {
          "base_uri": "https://localhost:8080/"
        },
        "outputId": "77524227-4c49-4a35-a48a-920480ec1954"
      },
      "source": [
        "sentiment_score[:10]"
      ],
      "execution_count": 119,
      "outputs": [
        {
          "output_type": "execute_result",
          "data": {
            "text/plain": [
              "[0.0, 0.0, 0.0, 0.1, 0.0, 0.0, 0.5, 0.0, 0.0, 0.0]"
            ]
          },
          "metadata": {},
          "execution_count": 119
        }
      ]
    },
    {
      "cell_type": "code",
      "metadata": {
        "colab": {
          "base_uri": "https://localhost:8080/",
          "height": 293
        },
        "id": "-JyGtE5nCaBr",
        "outputId": "4ffb9662-939d-4bd0-ac9f-e76fd6272073"
      },
      "source": [
        "df_cleaned['sentiment_score'] = sentiment_score\n",
        "df_cleaned.head()"
      ],
      "execution_count": 133,
      "outputs": [
        {
          "output_type": "execute_result",
          "data": {
            "text/html": [
              "<div>\n",
              "<style scoped>\n",
              "    .dataframe tbody tr th:only-of-type {\n",
              "        vertical-align: middle;\n",
              "    }\n",
              "\n",
              "    .dataframe tbody tr th {\n",
              "        vertical-align: top;\n",
              "    }\n",
              "\n",
              "    .dataframe thead th {\n",
              "        text-align: right;\n",
              "    }\n",
              "</style>\n",
              "<table border=\"1\" class=\"dataframe\">\n",
              "  <thead>\n",
              "    <tr style=\"text-align: right;\">\n",
              "      <th></th>\n",
              "      <th>tweet_author</th>\n",
              "      <th>tweet_text</th>\n",
              "      <th>entity</th>\n",
              "      <th>sentiment_score</th>\n",
              "    </tr>\n",
              "  </thead>\n",
              "  <tbody>\n",
              "    <tr>\n",
              "      <th>2013-07-18 09:39:46.071961602</th>\n",
              "      <td>Hematopoiesis News</td>\n",
              "      <td>⚕️ Scientists conducted a Phase II study of acalabrutinib in patients with relapsed/refractory CLL who were ibrutinib-intolerant, and found an overall response rate of 73%. \\n</td>\n",
              "      <td>Scientists</td>\n",
              "      <td>0.0</td>\n",
              "    </tr>\n",
              "    <tr>\n",
              "      <th>2013-07-17 03:40:32.173842437</th>\n",
              "      <td>Michael Wang, MD</td>\n",
              "      <td>This phase 2 Acalabrutinib-Venetoclax (AV) trial that is still in recruitment phase will study how well venetoclax and acalabrutinib works in MCL patients who either relapsed or non-respondent to the initial therapy.\\n\\n</td>\n",
              "      <td>venetoclax</td>\n",
              "      <td>0.0</td>\n",
              "    </tr>\n",
              "    <tr>\n",
              "      <th>2013-07-15 15:41:16.553048065</th>\n",
              "      <td>1stOncology</td>\n",
              "      <td>NICE backs AstraZenecas Calquence for CLL</td>\n",
              "      <td>NICE</td>\n",
              "      <td>0.0</td>\n",
              "    </tr>\n",
              "    <tr>\n",
              "      <th>2013-07-12 19:19:42.367813635</th>\n",
              "      <td>Toby Eyre</td>\n",
              "      <td>acalabrutinib is a valuable option in pts intolerant to ibrutinib. Further valuable data to help decision making in CLL \\n\\nEarly View | Haematologica</td>\n",
              "      <td>acalabrutinib</td>\n",
              "      <td>0.1</td>\n",
              "    </tr>\n",
              "    <tr>\n",
              "      <th>2013-07-04 12:40:34.334232586</th>\n",
              "      <td>Lymphoma Hub</td>\n",
              "      <td>NICE has recommended the use of acalabrutinib for patients with treatment-naïve chronic lymphocytic leukemia. Find out more here  lymsm lymphoma</td>\n",
              "      <td>NICE</td>\n",
              "      <td>0.0</td>\n",
              "    </tr>\n",
              "  </tbody>\n",
              "</table>\n",
              "</div>"
            ],
            "text/plain": [
              "                                     tweet_author  ... sentiment_score\n",
              "2013-07-18 09:39:46.071961602  Hematopoiesis News  ...             0.0\n",
              "2013-07-17 03:40:32.173842437    Michael Wang, MD  ...             0.0\n",
              "2013-07-15 15:41:16.553048065         1stOncology  ...             0.0\n",
              "2013-07-12 19:19:42.367813635           Toby Eyre  ...             0.1\n",
              "2013-07-04 12:40:34.334232586        Lymphoma Hub  ...             0.0\n",
              "\n",
              "[5 rows x 4 columns]"
            ]
          },
          "metadata": {},
          "execution_count": 133
        }
      ]
    },
    {
      "cell_type": "markdown",
      "metadata": {
        "id": "fgvL7Ao_2MNs"
      },
      "source": [
        "### Labeling the sentiment scores"
      ]
    },
    {
      "cell_type": "code",
      "metadata": {
        "id": "vaBDcNxOqPQn"
      },
      "source": [
        "sentiment_label = []\n",
        "for i in range(0,len(df_cleaned)):\n",
        "  if df_cleaned['sentiment_score'][i] < 0:\n",
        "    sentiment_label.append('Negative')\n",
        "  elif df_cleaned['sentiment_score'][i] == 0:\n",
        "    sentiment_label.append('Neutral')\n",
        "  else:\n",
        "    sentiment_label.append('Positive')"
      ],
      "execution_count": 124,
      "outputs": []
    },
    {
      "cell_type": "code",
      "metadata": {
        "colab": {
          "base_uri": "https://localhost:8080/"
        },
        "id": "4T-P99CdiLtZ",
        "outputId": "647da5f1-5188-4f9d-ff93-a994d7e30235"
      },
      "source": [
        "sentiment_label[:10]"
      ],
      "execution_count": 126,
      "outputs": [
        {
          "output_type": "execute_result",
          "data": {
            "text/plain": [
              "['Neutral',\n",
              " 'Neutral',\n",
              " 'Neutral',\n",
              " 'Positive',\n",
              " 'Neutral',\n",
              " 'Neutral',\n",
              " 'Positive',\n",
              " 'Neutral',\n",
              " 'Neutral',\n",
              " 'Neutral']"
            ]
          },
          "metadata": {},
          "execution_count": 126
        }
      ]
    },
    {
      "cell_type": "markdown",
      "metadata": {
        "id": "DDh4ZeaG2YFF"
      },
      "source": [
        "### Objective 2 : Sentiments of authors towards respective entities"
      ]
    },
    {
      "cell_type": "code",
      "metadata": {
        "colab": {
          "base_uri": "https://localhost:8080/",
          "height": 293
        },
        "id": "Ay6UXm-pnHGK",
        "outputId": "600a71d6-6a3d-4131-854e-eef343c9ce4b"
      },
      "source": [
        "df_sentiment = df_cleaned.copy()\n",
        "df_sentiment['sentiment_label'] = sentiment_label\n",
        "df_sentiment.head(5)"
      ],
      "execution_count": 136,
      "outputs": [
        {
          "output_type": "execute_result",
          "data": {
            "text/html": [
              "<div>\n",
              "<style scoped>\n",
              "    .dataframe tbody tr th:only-of-type {\n",
              "        vertical-align: middle;\n",
              "    }\n",
              "\n",
              "    .dataframe tbody tr th {\n",
              "        vertical-align: top;\n",
              "    }\n",
              "\n",
              "    .dataframe thead th {\n",
              "        text-align: right;\n",
              "    }\n",
              "</style>\n",
              "<table border=\"1\" class=\"dataframe\">\n",
              "  <thead>\n",
              "    <tr style=\"text-align: right;\">\n",
              "      <th></th>\n",
              "      <th>tweet_author</th>\n",
              "      <th>tweet_text</th>\n",
              "      <th>entity</th>\n",
              "      <th>sentiment_score</th>\n",
              "      <th>sentiment_label</th>\n",
              "    </tr>\n",
              "  </thead>\n",
              "  <tbody>\n",
              "    <tr>\n",
              "      <th>2013-07-18 09:39:46.071961602</th>\n",
              "      <td>Hematopoiesis News</td>\n",
              "      <td>⚕️ Scientists conducted a Phase II study of acalabrutinib in patients with relapsed/refractory CLL who were ibrutinib-intolerant, and found an overall response rate of 73%. \\n</td>\n",
              "      <td>Scientists</td>\n",
              "      <td>0.0</td>\n",
              "      <td>Neutral</td>\n",
              "    </tr>\n",
              "    <tr>\n",
              "      <th>2013-07-17 03:40:32.173842437</th>\n",
              "      <td>Michael Wang, MD</td>\n",
              "      <td>This phase 2 Acalabrutinib-Venetoclax (AV) trial that is still in recruitment phase will study how well venetoclax and acalabrutinib works in MCL patients who either relapsed or non-respondent to the initial therapy.\\n\\n</td>\n",
              "      <td>venetoclax</td>\n",
              "      <td>0.0</td>\n",
              "      <td>Neutral</td>\n",
              "    </tr>\n",
              "    <tr>\n",
              "      <th>2013-07-15 15:41:16.553048065</th>\n",
              "      <td>1stOncology</td>\n",
              "      <td>NICE backs AstraZenecas Calquence for CLL</td>\n",
              "      <td>NICE</td>\n",
              "      <td>0.0</td>\n",
              "      <td>Neutral</td>\n",
              "    </tr>\n",
              "    <tr>\n",
              "      <th>2013-07-12 19:19:42.367813635</th>\n",
              "      <td>Toby Eyre</td>\n",
              "      <td>acalabrutinib is a valuable option in pts intolerant to ibrutinib. Further valuable data to help decision making in CLL \\n\\nEarly View | Haematologica</td>\n",
              "      <td>acalabrutinib</td>\n",
              "      <td>0.1</td>\n",
              "      <td>Positive</td>\n",
              "    </tr>\n",
              "    <tr>\n",
              "      <th>2013-07-04 12:40:34.334232586</th>\n",
              "      <td>Lymphoma Hub</td>\n",
              "      <td>NICE has recommended the use of acalabrutinib for patients with treatment-naïve chronic lymphocytic leukemia. Find out more here  lymsm lymphoma</td>\n",
              "      <td>NICE</td>\n",
              "      <td>0.0</td>\n",
              "      <td>Neutral</td>\n",
              "    </tr>\n",
              "  </tbody>\n",
              "</table>\n",
              "</div>"
            ],
            "text/plain": [
              "                                     tweet_author  ... sentiment_label\n",
              "2013-07-18 09:39:46.071961602  Hematopoiesis News  ...         Neutral\n",
              "2013-07-17 03:40:32.173842437    Michael Wang, MD  ...         Neutral\n",
              "2013-07-15 15:41:16.553048065         1stOncology  ...         Neutral\n",
              "2013-07-12 19:19:42.367813635           Toby Eyre  ...        Positive\n",
              "2013-07-04 12:40:34.334232586        Lymphoma Hub  ...         Neutral\n",
              "\n",
              "[5 rows x 5 columns]"
            ]
          },
          "metadata": {},
          "execution_count": 136
        }
      ]
    },
    {
      "cell_type": "code",
      "metadata": {
        "colab": {
          "base_uri": "https://localhost:8080/",
          "height": 206
        },
        "id": "u7TsRkD6Pdwj",
        "outputId": "6cdc4bb5-c965-4a32-c103-2fab3d82438f"
      },
      "source": [
        "objective2 = pd.DataFrame()\n",
        "objective2['entity'] = df_sentiment['entity']\n",
        "objective2['author_name'] = df_sentiment['tweet_author']\n",
        "objective2['overall_polarity'] = df_sentiment['sentiment_label']\n",
        "objective2 = objective2.set_index(pd.Index([i for i in range(0,len(objective2))]))\n",
        "objective2.head()"
      ],
      "execution_count": 144,
      "outputs": [
        {
          "output_type": "execute_result",
          "data": {
            "text/html": [
              "<div>\n",
              "<style scoped>\n",
              "    .dataframe tbody tr th:only-of-type {\n",
              "        vertical-align: middle;\n",
              "    }\n",
              "\n",
              "    .dataframe tbody tr th {\n",
              "        vertical-align: top;\n",
              "    }\n",
              "\n",
              "    .dataframe thead th {\n",
              "        text-align: right;\n",
              "    }\n",
              "</style>\n",
              "<table border=\"1\" class=\"dataframe\">\n",
              "  <thead>\n",
              "    <tr style=\"text-align: right;\">\n",
              "      <th></th>\n",
              "      <th>entity</th>\n",
              "      <th>author_name</th>\n",
              "      <th>overall_polarity</th>\n",
              "    </tr>\n",
              "  </thead>\n",
              "  <tbody>\n",
              "    <tr>\n",
              "      <th>0</th>\n",
              "      <td>Scientists</td>\n",
              "      <td>Hematopoiesis News</td>\n",
              "      <td>Neutral</td>\n",
              "    </tr>\n",
              "    <tr>\n",
              "      <th>1</th>\n",
              "      <td>venetoclax</td>\n",
              "      <td>Michael Wang, MD</td>\n",
              "      <td>Neutral</td>\n",
              "    </tr>\n",
              "    <tr>\n",
              "      <th>2</th>\n",
              "      <td>NICE</td>\n",
              "      <td>1stOncology</td>\n",
              "      <td>Neutral</td>\n",
              "    </tr>\n",
              "    <tr>\n",
              "      <th>3</th>\n",
              "      <td>acalabrutinib</td>\n",
              "      <td>Toby Eyre</td>\n",
              "      <td>Positive</td>\n",
              "    </tr>\n",
              "    <tr>\n",
              "      <th>4</th>\n",
              "      <td>NICE</td>\n",
              "      <td>Lymphoma Hub</td>\n",
              "      <td>Neutral</td>\n",
              "    </tr>\n",
              "  </tbody>\n",
              "</table>\n",
              "</div>"
            ],
            "text/plain": [
              "          entity         author_name overall_polarity\n",
              "0     Scientists  Hematopoiesis News          Neutral\n",
              "1     venetoclax    Michael Wang, MD          Neutral\n",
              "2           NICE         1stOncology          Neutral\n",
              "3  acalabrutinib           Toby Eyre         Positive\n",
              "4           NICE        Lymphoma Hub          Neutral"
            ]
          },
          "metadata": {},
          "execution_count": 144
        }
      ]
    },
    {
      "cell_type": "code",
      "metadata": {
        "id": "bZo-I1TBwcWG"
      },
      "source": [
        "objective2.to_csv('/content/drive/MyDrive/Datasets/objective2.csv')"
      ],
      "execution_count": 145,
      "outputs": []
    }
  ]
}